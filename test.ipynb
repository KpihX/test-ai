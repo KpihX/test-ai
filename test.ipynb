{
 "cells": [
  {
   "cell_type": "code",
   "execution_count": 2,
   "metadata": {},
   "outputs": [
    {
     "name": "stderr",
     "output_type": "stream",
     "text": [
      "[nltk_data] Downloading package averaged_perceptron_tagger to\n",
      "[nltk_data]     /home/kpihx/nltk_data...\n",
      "[nltk_data]   Unzipping taggers/averaged_perceptron_tagger.zip.\n"
     ]
    },
    {
     "data": {
      "text/plain": [
       "True"
      ]
     },
     "execution_count": 2,
     "metadata": {},
     "output_type": "execute_result"
    }
   ],
   "source": [
    "import nltk\n",
    "nltk.download('averaged_perceptron_tagger')\n"
   ]
  },
  {
   "cell_type": "code",
   "execution_count": 3,
   "metadata": {},
   "outputs": [
    {
     "name": "stdout",
     "output_type": "stream",
     "text": [
      "Sujet: Le, Verbe: None, Complément: \n",
      "Sujet: La, Verbe: None, Complément: \n"
     ]
    }
   ],
   "source": [
    "\n",
    "from nltk.tokenize import sent_tokenize, word_tokenize\n",
    "from nltk.tag import pos_tag\n",
    "\n",
    "# Fonction pour extraire les phrases d'un texte\n",
    "def extraire_phrases(texte):\n",
    "    phrases = sent_tokenize(texte)\n",
    "    return phrases\n",
    "\n",
    "# Fonction pour trouver le sujet, le verbe et le complément d'une phrase\n",
    "def trouver_elements_phrase(phrase):\n",
    "    mots = word_tokenize(phrase)\n",
    "    etiquettes = pos_tag(mots)\n",
    "    \n",
    "    sujet = None\n",
    "    verbe = None\n",
    "    complement = []\n",
    "    complement_capture = False\n",
    "    \n",
    "    for mot, etiquette in etiquettes:\n",
    "        if etiquette.startswith('NN'):  # Noms communs et propres\n",
    "            if sujet is None:\n",
    "                sujet = mot\n",
    "            elif complement_capture:\n",
    "                complement.append(mot)\n",
    "        elif etiquette.startswith('VB'):  # Verbes\n",
    "            verbe = mot\n",
    "            complement_capture = True\n",
    "        elif complement_capture:  # Capture du complément après le verbe\n",
    "            complement.append(mot)\n",
    "    \n",
    "    return sujet, verbe, ' '.join(complement)\n",
    "\n",
    "# Exemple d'utilisation\n",
    "texte = \"Le chat dort sur le tapis. La voiture est rouge.\"\n",
    "phrases = extraire_phrases(texte)\n",
    "for phrase in phrases:\n",
    "    sujet, verbe, complement = trouver_elements_phrase(phrase)\n",
    "    print(f\"Sujet: {sujet}, Verbe: {verbe}, Complément: {complement}\")\n"
   ]
  }
 ],
 "metadata": {
  "kernelspec": {
   "display_name": "base",
   "language": "python",
   "name": "python3"
  },
  "language_info": {
   "codemirror_mode": {
    "name": "ipython",
    "version": 3
   },
   "file_extension": ".py",
   "mimetype": "text/x-python",
   "name": "python",
   "nbconvert_exporter": "python",
   "pygments_lexer": "ipython3",
   "version": "3.11.5"
  }
 },
 "nbformat": 4,
 "nbformat_minor": 2
}
